{
 "cells": [
  {
   "cell_type": "markdown",
   "metadata": {},
   "source": [
    "AVG: AVERAGE DIRECTIONAL INDEX\n"
   ]
  },
  {
   "cell_type": "code",
   "execution_count": 6,
   "metadata": {},
   "outputs": [],
   "source": [
    "import yfinance as yf\n",
    "import numpy as np\n",
    "import pandas as pd\n"
   ]
  },
  {
   "cell_type": "code",
   "execution_count": 7,
   "metadata": {},
   "outputs": [],
   "source": [
    "tickers  = [\"META\", \"AAPL\", \"MSFT\"]\n",
    "ohlcv_data = {}"
   ]
  },
  {
   "cell_type": "code",
   "execution_count": 8,
   "metadata": {},
   "outputs": [
    {
     "name": "stdout",
     "output_type": "stream",
     "text": [
      "[*********************100%%**********************]  1 of 1 completed\n",
      "[*********************100%%**********************]  1 of 1 completed\n",
      "[*********************100%%**********************]  1 of 1 completed\n"
     ]
    }
   ],
   "source": [
    "for ticker in tickers:\n",
    "    temp = yf.download(ticker, period = '1mo', interval = '15m')\n",
    "    temp.dropna(how = 'any', inplace = True)\n",
    "    ohlcv_data[ticker] = temp"
   ]
  },
  {
   "cell_type": "code",
   "execution_count": 9,
   "metadata": {},
   "outputs": [],
   "source": [
    "def ATR(DF, n=14):\n",
    "    \"function to calculate True Range and Average True Range\"\n",
    "    df = DF.copy()\n",
    "    df[\"H-L\"] = df[\"High\"] - df[\"Low\"]\n",
    "    df[\"H-PC\"] = abs(df[\"High\"] - df[\"Adj Close\"].shift(1))\n",
    "    df[\"L-PC\"] = abs(df[\"Low\"] - df[\"Adj Close\"].shift(1))\n",
    "    df[\"TR\"] = df[[\"H-L\",\"H-PC\",\"L-PC\"]].max(axis=1, skipna=False)\n",
    "    df[\"ATR\"] = df[\"TR\"].ewm(com=n, min_periods=n).mean()\n",
    "    return df[\"ATR\"]\n"
   ]
  },
  {
   "cell_type": "code",
   "execution_count": 10,
   "metadata": {},
   "outputs": [],
   "source": [
    "def ADX(DF, n=20):\n",
    "    \"function to calculate ADX\"\n",
    "    df = DF.copy()\n",
    "    df[\"ATR\"] = ATR(DF, n)\n",
    "    df[\"upmove\"] = df[\"High\"] - df[\"High\"].shift(1)\n",
    "    df[\"downmove\"] = df[\"Low\"].shift(1) - df[\"Low\"]\n",
    "    df[\"+dm\"] = np.where((df[\"upmove\"]>df[\"downmove\"]) & (df[\"upmove\"] >0), df[\"upmove\"], 0)\n",
    "    df[\"-dm\"] = np.where((df[\"downmove\"]>df[\"upmove\"]) & (df[\"downmove\"] >0), df[\"downmove\"], 0)\n",
    "    df[\"+di\"] = 100 * (df[\"+dm\"]/df[\"ATR\"]).ewm(alpha=1/n, min_periods=n).mean()\n",
    "    df[\"-di\"] = 100 * (df[\"-dm\"]/df[\"ATR\"]).ewm(alpha=1/n, min_periods=n).mean()\n",
    "    df[\"ADX\"] = 100* abs((df[\"+di\"] - df[\"-di\"])/(df[\"+di\"] + df[\"-di\"])).ewm(alpha=1/n, min_periods=n).mean()\n",
    "    return df[\"ADX\"]\n",
    "\n",
    "\n",
    "for ticker in ohlcv_data:\n",
    "    ohlcv_data[ticker][\"ADX\"] = ADX(ohlcv_data[ticker],20)"
   ]
  },
  {
   "cell_type": "code",
   "execution_count": null,
   "metadata": {},
   "outputs": [],
   "source": []
  }
 ],
 "metadata": {
  "kernelspec": {
   "display_name": "Python 3",
   "language": "python",
   "name": "python3"
  },
  "language_info": {
   "codemirror_mode": {
    "name": "ipython",
    "version": 3
   },
   "file_extension": ".py",
   "mimetype": "text/x-python",
   "name": "python",
   "nbconvert_exporter": "python",
   "pygments_lexer": "ipython3",
   "version": "3.11.5"
  },
  "orig_nbformat": 4
 },
 "nbformat": 4,
 "nbformat_minor": 2
}
