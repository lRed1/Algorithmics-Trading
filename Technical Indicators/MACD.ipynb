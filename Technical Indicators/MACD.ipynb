{
 "cells": [
  {
   "cell_type": "code",
   "execution_count": null,
   "metadata": {},
   "outputs": [],
   "source": [
    "import yfinance as yf\n"
   ]
  },
  {
   "cell_type": "code",
   "execution_count": null,
   "metadata": {},
   "outputs": [],
   "source": [
    "tickers = [\"AMZN\", \"GOOG\", \"MSFT\"]\n",
    "ohlcv_data = {}"
   ]
  },
  {
   "cell_type": "code",
   "execution_count": null,
   "metadata": {},
   "outputs": [],
   "source": [
    "for ticker in tickers:\n",
    "    temp = yf.download(ticker, period = '1mo', interval = '15m')\n",
    "    temp.dropna(how = 'any', inplace = True)\n",
    "    ohlcv_data[ticker] = temp "
   ]
  },
  {
   "cell_type": "code",
   "execution_count": 6,
   "metadata": {},
   "outputs": [],
   "source": [
    "df = ohlcv_data[\"AMZN\"]\n",
    "def MACD(DF, a = 12 ,b= 26,c= 9):\n",
    "    df = DF.copy()\n",
    "    df[\"ma_fast\"] = df[\"Adj Close\"].ewm(span = a, min_periods = a).mean()\n",
    "    df[\"ma_slow\"] = df[\"Adj Close\"].ewm(span = b, min_periods = b).mean()\n",
    "    df[\"macd\"] = df[\"ma_fast\"] - df[\"ma_slow\"]\n",
    "    df[\"signal\"] = df[\"macd\"].ewm(span = c, min_periods = c).mean()\n",
    "    return df.loc[:,[\"macd\",\"signal\"]]\n",
    "\n",
    "for ticker in ohlcv_data:\n",
    "    ohlcv_data[ticker][[\"MACD\", \"SIGNAL\"]] = MACD(ohlcv_data[ticker])"
   ]
  },
  {
   "cell_type": "code",
   "execution_count": null,
   "metadata": {},
   "outputs": [],
   "source": []
  }
 ],
 "metadata": {
  "kernelspec": {
   "display_name": "Python 3",
   "language": "python",
   "name": "python3"
  },
  "language_info": {
   "codemirror_mode": {
    "name": "ipython",
    "version": 3
   },
   "file_extension": ".py",
   "mimetype": "text/x-python",
   "name": "python",
   "nbconvert_exporter": "python",
   "pygments_lexer": "ipython3",
   "version": "3.11.5"
  },
  "orig_nbformat": 4
 },
 "nbformat": 4,
 "nbformat_minor": 2
}
