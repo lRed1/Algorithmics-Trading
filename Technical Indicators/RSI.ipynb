{
 "cells": [
  {
   "cell_type": "code",
   "execution_count": 10,
   "metadata": {},
   "outputs": [],
   "source": [
    "import yfinance as yf\n",
    "import numpy as np"
   ]
  },
  {
   "cell_type": "code",
   "execution_count": 6,
   "metadata": {},
   "outputs": [],
   "source": [
    "tickers = [\"MSFT\", \"AAPL\", \"GOOG\"]\n",
    "ohlcv_data = {}"
   ]
  },
  {
   "cell_type": "code",
   "execution_count": 7,
   "metadata": {},
   "outputs": [
    {
     "name": "stdout",
     "output_type": "stream",
     "text": [
      "[*********************100%%**********************]  1 of 1 completed\n",
      "[*********************100%%**********************]  1 of 1 completed\n",
      "[*********************100%%**********************]  1 of 1 completed\n"
     ]
    }
   ],
   "source": [
    "for ticker in tickers:\n",
    "    temp = yf.download(ticker, period = '1mo', interval = '15m')\n",
    "    temp.dropna(how = 'any', inplace = True)\n",
    "    ohlcv_data[ticker] = temp"
   ]
  },
  {
   "cell_type": "code",
   "execution_count": 13,
   "metadata": {},
   "outputs": [],
   "source": [
    "def RSI(DF, n=14):\n",
    "    df = DF.copy()\n",
    "    df[\"change\"] = df[\"Adj Close\"] - df[\"Adj Close\"].shift(1)\n",
    "    df[\"gain\"] = np.where(df[\"change\"] >=0, df[\"change\"], 0)\n",
    "    df[\"loss\"] = np.where(df[\"change\"] <=0, df[\"change\"], 0)\n",
    "    df[\"avgGain\"] = df[\"gain\"].ewm(alpha = 1/n, min_periods = n).mean()\n",
    "    df[\"avgLoss\"] = df[\"loss\"].ewm(alpha = 1/n, min_periods = n).mean()\n",
    "    df[\"rs\"] = df[\"avgGain\"]/df[\"avgLoss\"]\n",
    "    df[\"rsi\"] = 100 - (100/(1+df[\"rs\"]))\n",
    "    return df[\"rsi\"]\n",
    "\n"
   ]
  },
  {
   "cell_type": "code",
   "execution_count": 14,
   "metadata": {},
   "outputs": [],
   "source": [
    "for ticker in tickers:\n",
    "    ohlcv_data[ticker][\"RSI\"] = RSI(ohlcv_data[ticker])"
   ]
  },
  {
   "cell_type": "code",
   "execution_count": null,
   "metadata": {},
   "outputs": [],
   "source": []
  }
 ],
 "metadata": {
  "kernelspec": {
   "display_name": "Python 3",
   "language": "python",
   "name": "python3"
  },
  "language_info": {
   "codemirror_mode": {
    "name": "ipython",
    "version": 3
   },
   "file_extension": ".py",
   "mimetype": "text/x-python",
   "name": "python",
   "nbconvert_exporter": "python",
   "pygments_lexer": "ipython3",
   "version": "3.11.5"
  },
  "orig_nbformat": 4
 },
 "nbformat": 4,
 "nbformat_minor": 2
}
