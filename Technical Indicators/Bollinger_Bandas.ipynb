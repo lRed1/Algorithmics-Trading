{
 "cells": [
  {
   "cell_type": "code",
   "execution_count": 1,
   "metadata": {},
   "outputs": [],
   "source": [
    "import yfinance as yf"
   ]
  },
  {
   "cell_type": "code",
   "execution_count": 2,
   "metadata": {},
   "outputs": [],
   "source": [
    "tickers = [\"AMZN\", \"GOOG\", \"MSFT\"]\n",
    "ohlcv_data = {}"
   ]
  },
  {
   "cell_type": "code",
   "execution_count": 3,
   "metadata": {},
   "outputs": [
    {
     "name": "stdout",
     "output_type": "stream",
     "text": [
      "[*********************100%%**********************]  1 of 1 completed\n",
      "[*********************100%%**********************]  1 of 1 completed\n",
      "[*********************100%%**********************]  1 of 1 completed\n"
     ]
    }
   ],
   "source": [
    "for ticker in tickers:\n",
    "    temp = yf.download(ticker, period=\"1mo\", interval = \"5m\")\n",
    "    temp.dropna(how = 'any', inplace = True)\n",
    "    ohlcv_data[ticker] = temp"
   ]
  },
  {
   "cell_type": "code",
   "execution_count": 4,
   "metadata": {},
   "outputs": [],
   "source": [
    "def Boll_Band(DF, n=14):\n",
    "    df = DF.copy()\n",
    "    df[\"MB\"] = df[\"Adj Close\"].rolling(n).mean()\n",
    "    df[\"UB\"] = df[\"MB\"] + 2*df[\"Adj Close\"].rolling(n).std(ddof =0)\n",
    "    df[\"LB\"] = df[\"MB\"] - 2*df[\"Adj Close\"].rolling(n).std(ddof =0)\n",
    "    df[\"BB_Width\"] = df[\"UB\"] - df[\"LB\"]\n",
    "    return df[[\"MB\", \"UB\", \"LB\", \"BB_Width\"]]\n",
    "\n",
    "for ticker in tickers:\n",
    "    ohlcv_data[ticker][[\"MB\", \"UB\", \"LB\", \"BB_Width\"]] = Boll_Band(ohlcv_data[ticker],20)\n"
   ]
  },
  {
   "cell_type": "code",
   "execution_count": null,
   "metadata": {},
   "outputs": [],
   "source": []
  }
 ],
 "metadata": {
  "kernelspec": {
   "display_name": "Python 3",
   "language": "python",
   "name": "python3"
  },
  "language_info": {
   "codemirror_mode": {
    "name": "ipython",
    "version": 3
   },
   "file_extension": ".py",
   "mimetype": "text/x-python",
   "name": "python",
   "nbconvert_exporter": "python",
   "pygments_lexer": "ipython3",
   "version": "3.11.5"
  },
  "orig_nbformat": 4
 },
 "nbformat": 4,
 "nbformat_minor": 2
}
