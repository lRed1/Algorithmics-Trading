{
 "cells": [
  {
   "cell_type": "code",
   "execution_count": 17,
   "metadata": {},
   "outputs": [],
   "source": [
    "import yfinance as yf\n",
    "import numpy as np\n",
    "import pandas as pd\n",
    "from stocktrends import Renko\n",
    "\n"
   ]
  },
  {
   "cell_type": "code",
   "execution_count": 18,
   "metadata": {},
   "outputs": [],
   "source": [
    "tickers = [\"AAPL\", \"GOOG\", \"META\"]\n",
    "ohlcv_data = {}\n",
    "hour_data ={}\n",
    "renko_data ={}"
   ]
  },
  {
   "cell_type": "code",
   "execution_count": 19,
   "metadata": {},
   "outputs": [
    {
     "name": "stdout",
     "output_type": "stream",
     "text": [
      "[*********************100%%**********************]  1 of 1 completed\n",
      "[*********************100%%**********************]  1 of 1 completed"
     ]
    },
    {
     "name": "stderr",
     "output_type": "stream",
     "text": [
      "c:\\Users\\IVAN\\AppData\\Local\\Programs\\Python\\Python311\\Lib\\site-packages\\yfinance\\utils.py:633: FutureWarning: Series.__getitem__ treating keys as positions is deprecated. In a future version, integer keys will always be treated as labels (consistent with DataFrame behavior). To access a value by position, use `ser.iloc[pos]`\n",
      "  if not _np.isnan(quotes[\"High\"][n - 1]):\n",
      "c:\\Users\\IVAN\\AppData\\Local\\Programs\\Python\\Python311\\Lib\\site-packages\\yfinance\\utils.py:634: FutureWarning: Series.__getitem__ treating keys as positions is deprecated. In a future version, integer keys will always be treated as labels (consistent with DataFrame behavior). To access a value by position, use `ser.iloc[pos]`\n",
      "  quotes.loc[idx2, \"High\"] = _np.nanmax([quotes[\"High\"][n - 1], quotes[\"High\"][n - 2]])\n",
      "c:\\Users\\IVAN\\AppData\\Local\\Programs\\Python\\Python311\\Lib\\site-packages\\yfinance\\utils.py:638: FutureWarning: Series.__getitem__ treating keys as positions is deprecated. In a future version, integer keys will always be treated as labels (consistent with DataFrame behavior). To access a value by position, use `ser.iloc[pos]`\n",
      "  if not _np.isnan(quotes[\"Low\"][n - 1]):\n",
      "c:\\Users\\IVAN\\AppData\\Local\\Programs\\Python\\Python311\\Lib\\site-packages\\yfinance\\utils.py:639: FutureWarning: Series.__getitem__ treating keys as positions is deprecated. In a future version, integer keys will always be treated as labels (consistent with DataFrame behavior). To access a value by position, use `ser.iloc[pos]`\n",
      "  quotes.loc[idx2, \"Low\"] = _np.nanmin([quotes[\"Low\"][n - 1], quotes[\"Low\"][n - 2]])\n",
      "c:\\Users\\IVAN\\AppData\\Local\\Programs\\Python\\Python311\\Lib\\site-packages\\yfinance\\utils.py:643: FutureWarning: Series.__getitem__ treating keys as positions is deprecated. In a future version, integer keys will always be treated as labels (consistent with DataFrame behavior). To access a value by position, use `ser.iloc[pos]`\n",
      "  quotes.loc[idx2, \"Close\"] = quotes[\"Close\"][n - 1]\n",
      "c:\\Users\\IVAN\\AppData\\Local\\Programs\\Python\\Python311\\Lib\\site-packages\\yfinance\\utils.py:645: FutureWarning: Series.__getitem__ treating keys as positions is deprecated. In a future version, integer keys will always be treated as labels (consistent with DataFrame behavior). To access a value by position, use `ser.iloc[pos]`\n",
      "  quotes.loc[idx2, \"Adj Close\"] = quotes[\"Adj Close\"][n - 1]\n",
      "c:\\Users\\IVAN\\AppData\\Local\\Programs\\Python\\Python311\\Lib\\site-packages\\yfinance\\utils.py:646: FutureWarning: Series.__getitem__ treating keys as positions is deprecated. In a future version, integer keys will always be treated as labels (consistent with DataFrame behavior). To access a value by position, use `ser.iloc[pos]`\n",
      "  quotes.loc[idx2, \"Volume\"] += quotes[\"Volume\"][n - 1]\n"
     ]
    },
    {
     "name": "stdout",
     "output_type": "stream",
     "text": [
      "\n",
      "[*********************100%%**********************]  1 of 1 completed\n",
      "[*********************100%%**********************]  1 of 1 completed"
     ]
    },
    {
     "name": "stderr",
     "output_type": "stream",
     "text": [
      "c:\\Users\\IVAN\\AppData\\Local\\Programs\\Python\\Python311\\Lib\\site-packages\\yfinance\\utils.py:633: FutureWarning: Series.__getitem__ treating keys as positions is deprecated. In a future version, integer keys will always be treated as labels (consistent with DataFrame behavior). To access a value by position, use `ser.iloc[pos]`\n",
      "  if not _np.isnan(quotes[\"High\"][n - 1]):\n",
      "c:\\Users\\IVAN\\AppData\\Local\\Programs\\Python\\Python311\\Lib\\site-packages\\yfinance\\utils.py:634: FutureWarning: Series.__getitem__ treating keys as positions is deprecated. In a future version, integer keys will always be treated as labels (consistent with DataFrame behavior). To access a value by position, use `ser.iloc[pos]`\n",
      "  quotes.loc[idx2, \"High\"] = _np.nanmax([quotes[\"High\"][n - 1], quotes[\"High\"][n - 2]])\n",
      "c:\\Users\\IVAN\\AppData\\Local\\Programs\\Python\\Python311\\Lib\\site-packages\\yfinance\\utils.py:638: FutureWarning: Series.__getitem__ treating keys as positions is deprecated. In a future version, integer keys will always be treated as labels (consistent with DataFrame behavior). To access a value by position, use `ser.iloc[pos]`\n",
      "  if not _np.isnan(quotes[\"Low\"][n - 1]):\n",
      "c:\\Users\\IVAN\\AppData\\Local\\Programs\\Python\\Python311\\Lib\\site-packages\\yfinance\\utils.py:639: FutureWarning: Series.__getitem__ treating keys as positions is deprecated. In a future version, integer keys will always be treated as labels (consistent with DataFrame behavior). To access a value by position, use `ser.iloc[pos]`\n",
      "  quotes.loc[idx2, \"Low\"] = _np.nanmin([quotes[\"Low\"][n - 1], quotes[\"Low\"][n - 2]])\n",
      "c:\\Users\\IVAN\\AppData\\Local\\Programs\\Python\\Python311\\Lib\\site-packages\\yfinance\\utils.py:643: FutureWarning: Series.__getitem__ treating keys as positions is deprecated. In a future version, integer keys will always be treated as labels (consistent with DataFrame behavior). To access a value by position, use `ser.iloc[pos]`\n",
      "  quotes.loc[idx2, \"Close\"] = quotes[\"Close\"][n - 1]\n",
      "c:\\Users\\IVAN\\AppData\\Local\\Programs\\Python\\Python311\\Lib\\site-packages\\yfinance\\utils.py:645: FutureWarning: Series.__getitem__ treating keys as positions is deprecated. In a future version, integer keys will always be treated as labels (consistent with DataFrame behavior). To access a value by position, use `ser.iloc[pos]`\n",
      "  quotes.loc[idx2, \"Adj Close\"] = quotes[\"Adj Close\"][n - 1]\n",
      "c:\\Users\\IVAN\\AppData\\Local\\Programs\\Python\\Python311\\Lib\\site-packages\\yfinance\\utils.py:646: FutureWarning: Series.__getitem__ treating keys as positions is deprecated. In a future version, integer keys will always be treated as labels (consistent with DataFrame behavior). To access a value by position, use `ser.iloc[pos]`\n",
      "  quotes.loc[idx2, \"Volume\"] += quotes[\"Volume\"][n - 1]\n"
     ]
    },
    {
     "name": "stdout",
     "output_type": "stream",
     "text": [
      "\n",
      "[*********************100%%**********************]  1 of 1 completed\n",
      "[*********************100%%**********************]  1 of 1 completed\n"
     ]
    },
    {
     "name": "stderr",
     "output_type": "stream",
     "text": [
      "c:\\Users\\IVAN\\AppData\\Local\\Programs\\Python\\Python311\\Lib\\site-packages\\yfinance\\utils.py:633: FutureWarning: Series.__getitem__ treating keys as positions is deprecated. In a future version, integer keys will always be treated as labels (consistent with DataFrame behavior). To access a value by position, use `ser.iloc[pos]`\n",
      "  if not _np.isnan(quotes[\"High\"][n - 1]):\n",
      "c:\\Users\\IVAN\\AppData\\Local\\Programs\\Python\\Python311\\Lib\\site-packages\\yfinance\\utils.py:634: FutureWarning: Series.__getitem__ treating keys as positions is deprecated. In a future version, integer keys will always be treated as labels (consistent with DataFrame behavior). To access a value by position, use `ser.iloc[pos]`\n",
      "  quotes.loc[idx2, \"High\"] = _np.nanmax([quotes[\"High\"][n - 1], quotes[\"High\"][n - 2]])\n",
      "c:\\Users\\IVAN\\AppData\\Local\\Programs\\Python\\Python311\\Lib\\site-packages\\yfinance\\utils.py:638: FutureWarning: Series.__getitem__ treating keys as positions is deprecated. In a future version, integer keys will always be treated as labels (consistent with DataFrame behavior). To access a value by position, use `ser.iloc[pos]`\n",
      "  if not _np.isnan(quotes[\"Low\"][n - 1]):\n",
      "c:\\Users\\IVAN\\AppData\\Local\\Programs\\Python\\Python311\\Lib\\site-packages\\yfinance\\utils.py:639: FutureWarning: Series.__getitem__ treating keys as positions is deprecated. In a future version, integer keys will always be treated as labels (consistent with DataFrame behavior). To access a value by position, use `ser.iloc[pos]`\n",
      "  quotes.loc[idx2, \"Low\"] = _np.nanmin([quotes[\"Low\"][n - 1], quotes[\"Low\"][n - 2]])\n",
      "c:\\Users\\IVAN\\AppData\\Local\\Programs\\Python\\Python311\\Lib\\site-packages\\yfinance\\utils.py:643: FutureWarning: Series.__getitem__ treating keys as positions is deprecated. In a future version, integer keys will always be treated as labels (consistent with DataFrame behavior). To access a value by position, use `ser.iloc[pos]`\n",
      "  quotes.loc[idx2, \"Close\"] = quotes[\"Close\"][n - 1]\n",
      "c:\\Users\\IVAN\\AppData\\Local\\Programs\\Python\\Python311\\Lib\\site-packages\\yfinance\\utils.py:645: FutureWarning: Series.__getitem__ treating keys as positions is deprecated. In a future version, integer keys will always be treated as labels (consistent with DataFrame behavior). To access a value by position, use `ser.iloc[pos]`\n",
      "  quotes.loc[idx2, \"Adj Close\"] = quotes[\"Adj Close\"][n - 1]\n",
      "c:\\Users\\IVAN\\AppData\\Local\\Programs\\Python\\Python311\\Lib\\site-packages\\yfinance\\utils.py:646: FutureWarning: Series.__getitem__ treating keys as positions is deprecated. In a future version, integer keys will always be treated as labels (consistent with DataFrame behavior). To access a value by position, use `ser.iloc[pos]`\n",
      "  quotes.loc[idx2, \"Volume\"] += quotes[\"Volume\"][n - 1]\n"
     ]
    }
   ],
   "source": [
    "for ticker in tickers:\n",
    "    temp = yf.download(ticker, period = '1mo', interval = '15m')\n",
    "    temp.dropna(how = 'any', inplace = True)\n",
    "    ohlcv_data[ticker] = temp\n",
    "    temp = yf.download(ticker, period = '1y', interval = '1h')\n",
    "    temp.dropna(how = 'any', inplace = True)\n",
    "    hour_data[ticker] = temp"
   ]
  },
  {
   "cell_type": "code",
   "execution_count": 20,
   "metadata": {},
   "outputs": [],
   "source": [
    "def ATR(DF, n=14):\n",
    "    \"function to calculate True Range and Average True Range\"\n",
    "    df = DF.copy()\n",
    "    df[\"H-L\"] = df[\"High\"] - df[\"Low\"]\n",
    "    df[\"H-PC\"] = abs(df[\"High\"] - df[\"Adj Close\"].shift(1))\n",
    "    df[\"L-PC\"] = abs(df[\"Low\"] - df[\"Adj Close\"].shift(1))\n",
    "    df[\"TR\"] = df[[\"H-L\",\"H-PC\",\"L-PC\"]].max(axis=1, skipna=False)\n",
    "    df[\"ATR\"] = df[\"TR\"].ewm(com=n, min_periods=n).mean()\n",
    "    return df[\"ATR\"]"
   ]
  },
  {
   "cell_type": "code",
   "execution_count": 21,
   "metadata": {},
   "outputs": [],
   "source": [
    "def renko_DF(DF, hourly_df):\n",
    "    df = DF.copy()\n",
    "    df.drop(\"Close\", axis = 1, inplace = True)\n",
    "    df.reset_index(inplace = True)\n",
    "    df.columns = [\"date\", \"open\", \"high\",\"low\",\"close\",\"volume\"]\n",
    "    df2 = Renko(df)\n",
    "    df2.brick_size = 3*round(ATR(hourly_df, 120).iloc[-1],0)\n",
    "    renko_df = df2.get_ohlc_data()\n",
    "    return renko_df\n",
    "\n",
    "for ticker in ohlcv_data:\n",
    "    renko_data[ticker] = renko_DF(ohlcv_data[ticker], hour_data[ticker])\n",
    "    "
   ]
  },
  {
   "cell_type": "code",
   "execution_count": null,
   "metadata": {},
   "outputs": [],
   "source": []
  }
 ],
 "metadata": {
  "kernelspec": {
   "display_name": "Python 3",
   "language": "python",
   "name": "python3"
  },
  "language_info": {
   "codemirror_mode": {
    "name": "ipython",
    "version": 3
   },
   "file_extension": ".py",
   "mimetype": "text/x-python",
   "name": "python",
   "nbconvert_exporter": "python",
   "pygments_lexer": "ipython3",
   "version": "3.11.5"
  },
  "orig_nbformat": 4
 },
 "nbformat": 4,
 "nbformat_minor": 2
}
