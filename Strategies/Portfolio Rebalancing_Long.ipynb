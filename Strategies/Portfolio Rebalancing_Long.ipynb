{
 "cells": [
  {
   "cell_type": "code",
   "execution_count": 40,
   "metadata": {},
   "outputs": [],
   "source": [
    "import pandas as pd\n",
    "import pandas_datareader.data as pdr\n",
    "import datetime as dt\n",
    "import yfinance as yf\n",
    "import copy\n",
    "import matplotlib.pyplot as plt\n",
    "import numpy as np"
   ]
  },
  {
   "cell_type": "code",
   "execution_count": 41,
   "metadata": {},
   "outputs": [],
   "source": [
    "def CAGR(DF):\n",
    "    \"Funcion para calcular Cumulative Annual Growth Rate de una estrategia de trading\"\n",
    "    df = DF.copy()\n",
    "    df[\"cum_return\"] = (1+df[\"mon_ret\"]).cumprod()\n",
    "    n = len(df)/12\n",
    "    CAGR = (df[\"cum_return\"]).tolist()[-1]**(1/n) - 1\n",
    "    return CAGR"
   ]
  },
  {
   "cell_type": "code",
   "execution_count": 42,
   "metadata": {},
   "outputs": [],
   "source": [
    "def volatility(DF):\n",
    "    \"Funcion para calcular la volatilidad anualizada de una estrategia de trading\"\n",
    "    df =  DF.copy()\n",
    "    vol = df[\"mon_ret\"].std()* np.sqrt(12)\n",
    "    return vol"
   ]
  },
  {
   "cell_type": "code",
   "execution_count": 43,
   "metadata": {},
   "outputs": [],
   "source": [
    "def sharpe(DF, rf):\n",
    "    \"Funcion para calcular Sharpe Ratio; rf es la risk free\"\n",
    "    df = DF.copy()\n",
    "    sr = (CAGR(df) - rf)/volatility(df)\n",
    "    return sr"
   ]
  },
  {
   "cell_type": "code",
   "execution_count": 44,
   "metadata": {},
   "outputs": [],
   "source": [
    "def max_dd(DF):\n",
    "    \"function to calculate max drawdown\"\n",
    "    df = DF.copy()\n",
    "    df[\"cum_return\"] = (1 + df[\"mon_ret\"]).cumprod()\n",
    "    df[\"cum_roll_max\"] = df[\"cum_return\"].cummax()\n",
    "    df[\"drawdown\"] = df[\"cum_roll_max\"] - df[\"cum_return\"]\n",
    "    df[\"drawdown_pct\"] = df[\"drawdown\"]/df[\"cum_roll_max\"]\n",
    "    max_dd = df[\"drawdown_pct\"].max()\n",
    "    return max_dd"
   ]
  },
  {
   "cell_type": "code",
   "execution_count": 45,
   "metadata": {},
   "outputs": [],
   "source": [
    "tickers = [\"MMM\",\"AXP\",\"T\",\"BA\",\"CAT\",\"CSCO\",\"KO\", \"XOM\",\"GE\",\"GS\",\"HD\",\n",
    "           \"IBM\",\"INTC\",\"JNJ\",\"JPM\",\"MCD\",\"MRK\",\"MSFT\",\"NKE\",\"PFE\",\"PG\",\"TRV\",\n",
    "           \"UNH\",\"VZ\",\"V\",\"WMT\",\"DIS\"]\n",
    "ohlc_mon = {} # directory with ohlc value for each stock            \n",
    "start = dt.datetime.today()-dt.timedelta(3650)\n",
    "end = dt.datetime.today()"
   ]
  },
  {
   "cell_type": "code",
   "execution_count": 46,
   "metadata": {},
   "outputs": [
    {
     "name": "stdout",
     "output_type": "stream",
     "text": [
      "[*********************100%%**********************]  1 of 1 completed\n",
      "[*********************100%%**********************]  1 of 1 completed\n",
      "[*********************100%%**********************]  1 of 1 completed\n",
      "[*********************100%%**********************]  1 of 1 completed\n",
      "[*********************100%%**********************]  1 of 1 completed\n",
      "[*********************100%%**********************]  1 of 1 completed\n",
      "[*********************100%%**********************]  1 of 1 completed\n",
      "[*********************100%%**********************]  1 of 1 completed\n",
      "[*********************100%%**********************]  1 of 1 completed\n",
      "[*********************100%%**********************]  1 of 1 completed\n",
      "[*********************100%%**********************]  1 of 1 completed\n",
      "[*********************100%%**********************]  1 of 1 completed\n",
      "[*********************100%%**********************]  1 of 1 completed\n",
      "[*********************100%%**********************]  1 of 1 completed\n",
      "[*********************100%%**********************]  1 of 1 completed\n",
      "[*********************100%%**********************]  1 of 1 completed\n",
      "[*********************100%%**********************]  1 of 1 completed\n",
      "[*********************100%%**********************]  1 of 1 completed\n",
      "[*********************100%%**********************]  1 of 1 completed\n",
      "[*********************100%%**********************]  1 of 1 completed\n",
      "[*********************100%%**********************]  1 of 1 completed\n",
      "[*********************100%%**********************]  1 of 1 completed\n",
      "[*********************100%%**********************]  1 of 1 completed\n",
      "[*********************100%%**********************]  1 of 1 completed\n",
      "[*********************100%%**********************]  1 of 1 completed\n",
      "[*********************100%%**********************]  1 of 1 completed\n",
      "[*********************100%%**********************]  1 of 1 completed\n"
     ]
    }
   ],
   "source": [
    "# looping over tickers and creating a dataframe with close prices\n",
    "for ticker in tickers:\n",
    "    ohlc_mon[ticker] = yf.download(ticker,start,end,interval='1mo')\n",
    "    ohlc_mon[ticker].dropna(inplace=True,how=\"all\")\n",
    " \n",
    "tickers = ohlc_mon.keys() # redefine tickers variable after removing any tickers with corrupted data"
   ]
  },
  {
   "cell_type": "code",
   "execution_count": 51,
   "metadata": {},
   "outputs": [],
   "source": [
    "#function to calculate portfolio return iteratively\n",
    "def pflio(DF,m,x):\n",
    "    \"\"\"Returns cumulative portfolio return\n",
    "    DF = dataframe with monthly return info for all stocks\n",
    "    m = number of stock in the portfolio\n",
    "    x = number of underperforming stocks to be removed from portfolio monthly\"\"\"\n",
    "    df = DF.copy()\n",
    "    portfolio = []\n",
    "    monthly_ret = [0]\n",
    "    for i in range(len(df)):\n",
    "        if len(portfolio) > 0:\n",
    "            monthly_ret.append(df[portfolio].iloc[i,:].mean())\n",
    "            bad_stocks = df[portfolio].iloc[i,:].sort_values(ascending=True)[:x].index.values.tolist()\n",
    "            portfolio = [t for t in portfolio if t not in bad_stocks]\n",
    "        fill = m - len(portfolio)\n",
    "        new_picks = df.iloc[i,:].sort_values(ascending=False)[:fill].index.values.tolist()\n",
    "        portfolio = portfolio + new_picks\n",
    "        print(portfolio)\n",
    "    monthly_ret_df = pd.DataFrame(np.array(monthly_ret),columns=[\"mon_ret\"])\n",
    "    return monthly_ret_df"
   ]
  },
  {
   "cell_type": "code",
   "execution_count": 55,
   "metadata": {},
   "outputs": [
    {
     "name": "stdout",
     "output_type": "stream",
     "text": [
      "['JPM', 'MRK', 'UNH', 'MSFT', 'MMM', 'WMT']\n",
      "['JPM', 'UNH', 'MMM', 'INTC', 'V', 'XOM']\n",
      "['JPM', 'UNH', 'V', 'MRK', 'CAT', 'MSFT']\n",
      "['UNH', 'V', 'MRK', 'DIS', 'AXP', 'MRK']\n",
      "['UNH', 'MRK', 'MRK', 'T', 'MSFT', 'JNJ']\n",
      "['MRK', 'MRK', 'JNJ', 'TRV', 'KO', 'CAT']\n",
      "['JNJ', 'TRV', 'KO', 'VZ', 'CSCO', 'UNH']\n",
      "['JNJ', 'KO', 'UNH', 'INTC', 'CAT', 'GS']\n",
      "['UNH', 'INTC', 'GS', 'INTC', 'IBM', 'MSFT']\n",
      "['UNH', 'GS', 'MSFT', 'HD', 'CAT', 'PG']\n",
      "['GS', 'MSFT', 'PG', 'NKE', 'JNJ', 'GS']\n",
      "['PG', 'NKE', 'V', 'UNH', 'MMM', 'TRV']\n",
      "['PG', 'NKE', 'V', 'WMT', 'CSCO', 'INTC']\n",
      "['PG', 'V', 'CSCO', 'HD', 'JPM', 'GS']\n",
      "['V', 'CSCO', 'HD', 'BA', 'MRK', 'UNH']\n",
      "['CSCO', 'HD', 'UNH', 'DIS', 'JPM', 'CSCO']\n",
      "['HD', 'UNH', 'DIS', 'UNH', 'NKE', 'PFE']\n",
      "['DIS', 'NKE', 'PFE', 'MSFT', 'GE', 'CAT']\n",
      "['DIS', 'NKE', 'PFE', 'UNH', 'INTC', 'GS']\n",
      "['DIS', 'NKE', 'GS', 'NKE', 'DIS', 'JPM']\n",
      "['NKE', 'NKE', 'V', 'TRV', 'PFE', 'NKE']\n",
      "['NKE', 'NKE', 'NKE', 'AXP', 'HD', 'VZ']\n",
      "['NKE', 'NKE', 'NKE', 'NKE', 'INTC', 'MCD']\n",
      "['INTC', 'MCD', 'MSFT', 'GE', 'TRV', 'MCD']\n",
      "['INTC', 'MSFT', 'GE', 'HD', 'JPM', 'GE']\n",
      "['MSFT', 'GE', 'GE', 'PG', 'UNH', 'MCD']\n",
      "['MSFT', 'PG', 'MCD', 'WMT', 'VZ', 'T']\n",
      "['WMT', 'VZ', 'T', 'CSCO', 'CAT', 'IBM']\n",
      "['CSCO', 'CAT', 'IBM', 'IBM', 'CAT', 'AXP']\n",
      "['CAT', 'CAT', 'AXP', 'PFE', 'JPM', 'AXP']\n",
      "['PFE', 'JPM', 'CSCO', 'MSFT', 'PFE', 'WMT']\n",
      "['PFE', 'PFE', 'WMT', 'T', 'VZ', 'JNJ']\n",
      "['PFE', 'PFE', 'JNJ', 'MSFT', 'CAT', 'HD']\n",
      "['MSFT', 'CAT', 'HD', 'MRK', 'GS', 'JPM']\n",
      "['MSFT', 'CAT', 'MRK', 'CAT', 'INTC', 'UNH']\n",
      "['MSFT', 'MRK', 'UNH', 'GS', 'BA', 'MSFT']\n",
      "['UNH', 'GS', 'BA', 'GS', 'JPM', 'CAT']\n",
      "['GS', 'GS', 'JPM', 'T', 'GS', 'TRV']\n",
      "['JPM', 'T', 'TRV', 'DIS', 'MRK', 'V']\n",
      "['JPM', 'MRK', 'V', 'CSCO', 'BA', 'GS']\n",
      "['V', 'CSCO', 'BA', 'MSFT', 'MMM', 'DIS']\n",
      "['V', 'BA', 'MSFT', 'CAT', 'MCD', 'UNH']\n",
      "['V', 'CAT', 'MCD', 'MCD', 'KO', 'WMT']\n",
      "['CAT', 'MCD', 'MCD', 'NKE', 'JPM', 'AXP']\n",
      "['CAT', 'MCD', 'MCD', 'BA', 'VZ', 'V']\n",
      "['CAT', 'V', 'V', 'CAT', 'UNH', 'CSCO']\n",
      "['CAT', 'CAT', 'CSCO', 'HD', 'INTC', 'XOM']\n",
      "['CAT', 'CAT', 'INTC', 'INTC', 'WMT', 'MSFT']\n",
      "['CAT', 'CAT', 'WMT', 'WMT', 'CSCO', 'T']\n",
      "['CAT', 'CAT', 'T', 'CAT', 'BA', 'T']\n",
      "['BA', 'BA', 'TRV', 'MSFT', 'NKE', 'V']\n",
      "['BA', 'BA', 'V', 'CSCO', 'INTC', 'BA']\n",
      "['V', 'CSCO', 'INTC', 'INTC', 'PG', 'KO']\n",
      "['V', 'CSCO', 'KO', 'UNH', 'MRK', 'MCD']\n",
      "['V', 'UNH', 'MRK', 'INTC', 'CAT', 'MSFT']\n",
      "['V', 'UNH', 'MRK', 'NKE', 'PG', 'VZ']\n",
      "['UNH', 'MRK', 'PG', 'JPM', 'PFE', 'MRK']\n",
      "['UNH', 'MRK', 'MRK', 'CSCO', 'WMT', 'V']\n",
      "['MRK', 'MRK', 'V', 'CAT', 'BA', 'XOM']\n",
      "['MRK', 'MRK', 'BA', 'VZ', 'WMT', 'PG']\n",
      "['MRK', 'MRK', 'PG', 'CAT', 'AXP', 'MMM']\n",
      "['MRK', 'MRK', 'PG', 'GE', 'NKE', 'PG']\n",
      "['GE', 'NKE', 'GE', 'BA', 'GS', 'IBM']\n",
      "['GE', 'GE', 'BA', 'BA', 'INTC', 'CSCO']\n",
      "['INTC', 'CSCO', 'MSFT', 'V', 'PG', 'CSCO']\n",
      "['MSFT', 'V', 'DIS', 'JPM', 'MSFT', 'GS']\n",
      "['V', 'DIS', 'UNH', 'PFE', 'TRV', 'T']\n",
      "['V', 'DIS', 'T', 'CAT', 'GS', 'GE']\n",
      "['V', 'DIS', 'GS', 'PG', 'GS', 'IBM']\n",
      "['V', 'DIS', 'PG', 'BA', 'HD', 'VZ']\n",
      "['PG', 'BA', 'VZ', 'NKE', 'INTC', 'IBM']\n",
      "['PG', 'VZ', 'INTC', 'UNH', 'GE', 'INTC']\n",
      "['UNH', 'GE', 'DIS', 'GE', 'UNH', 'BA']\n",
      "['UNH', 'UNH', 'NKE', 'JNJ', 'CSCO', 'JPM']\n",
      "['NKE', 'JNJ', 'CSCO', 'GE', 'MCD', 'MSFT']\n",
      "['NKE', 'MCD', 'MSFT', 'HD', 'T', 'CAT']\n",
      "['NKE', 'MSFT', 'CAT', 'WMT', 'MRK', 'VZ']\n",
      "['MSFT', 'WMT', 'VZ', 'XOM', 'GS', 'HD']\n",
      "['MSFT', 'GS', 'HD', 'CSCO', 'NKE', 'HD']\n",
      "['MSFT', 'GS', 'BA', 'MSFT', 'TRV', 'CAT']\n",
      "['TRV', 'CAT', 'PFE', 'PG', 'WMT', 'KO']\n",
      "['CAT', 'PG', 'WMT', 'NKE', 'DIS', 'V']\n",
      "['CAT', 'WMT', 'NKE', 'NKE', 'CAT', 'MCD']\n",
      "['CAT', 'WMT', 'CAT', 'GE', 'TRV', 'CAT']\n",
      "['GE', 'BA', 'GE', 'AXP', 'DIS', 'GS']\n",
      "['DIS', 'GS', 'DIS', 'GS', 'XOM', 'JNJ']\n",
      "['XOM', 'JNJ', 'INTC', 'XOM', 'MSFT', 'JNJ']\n",
      "['XOM', 'INTC', 'XOM', 'XOM', 'CAT', 'GS']\n",
      "['INTC', 'CAT', 'BA', 'HD', 'CSCO', 'IBM']\n",
      "['HD', 'CSCO', 'IBM', 'V', 'AXP', 'UNH']\n",
      "['CSCO', 'AXP', 'UNH', 'JPM', 'GE', 'GS']\n",
      "['CSCO', 'AXP', 'GS', 'NKE', 'XOM', 'MSFT']\n",
      "['CSCO', 'NKE', 'MSFT', 'PFE', 'NKE', 'KO']\n",
      "['CSCO', 'MSFT', 'PFE', 'GS', 'PFE', 'CSCO']\n",
      "['MSFT', 'PFE', 'PFE', 'XOM', 'JPM', 'MCD']\n",
      "['MSFT', 'XOM', 'JPM', 'MRK', 'UNH', 'MSFT']\n",
      "['MSFT', 'UNH', 'MSFT', 'PFE', 'HD', 'PG']\n",
      "['UNH', 'PFE', 'PG', 'IBM', 'CSCO', 'KO']\n",
      "['PG', 'IBM', 'KO', 'XOM', 'AXP', 'MRK']\n",
      "['KO', 'XOM', 'AXP', 'AXP', 'DIS', 'TRV']\n",
      "['KO', 'XOM', 'TRV', 'CAT', 'PFE', 'WMT']\n",
      "['KO', 'XOM', 'WMT', 'MRK', 'T', 'PG']\n",
      "['XOM', 'MRK', 'T', 'T', 'XOM', 'VZ']\n",
      "['MRK', 'VZ', 'BA', 'UNH', 'IBM', 'PFE']\n",
      "['MRK', 'BA', 'UNH', 'BA', 'GE', 'XOM']\n",
      "['BA', 'BA', 'GE', 'DIS', 'TRV', 'BA']\n",
      "['GE', 'DIS', 'TRV', 'JNJ', 'MRK', 'WMT']\n",
      "['GE', 'TRV', 'MRK', 'CAT', 'XOM', 'GE']\n",
      "['GE', 'CAT', 'GE', 'BA', 'NKE', 'GS']\n",
      "['CAT', 'BA', 'NKE', 'NKE', 'BA', 'PFE']\n",
      "['BA', 'BA', 'DIS', 'GE', 'AXP', 'BA']\n",
      "['GE', 'AXP', 'GE', 'JPM', 'MSFT', 'CSCO']\n",
      "['GE', 'GE', 'MSFT', 'INTC', 'MSFT', 'GE']\n",
      "['MSFT', 'MSFT', 'MRK', 'XOM', 'MSFT', 'TRV']\n",
      "['MSFT', 'MSFT', 'MSFT', 'MSFT', 'CSCO', 'GE']\n",
      "['CSCO', 'GE', 'CAT', 'HD', 'AXP', 'MMM']\n",
      "['CAT', 'HD', 'MMM', 'BA', 'MMM', 'GS']\n",
      "['CAT', 'HD', 'CSCO', 'CAT', 'VZ', 'XOM']\n",
      "['CAT', 'CAT', 'XOM', 'XOM', 'UNH', 'TRV']\n"
     ]
    },
    {
     "data": {
      "text/plain": [
       "0.27012750460651863"
      ]
     },
     "execution_count": 55,
     "metadata": {},
     "output_type": "execute_result"
    }
   ],
   "source": [
    "#calculating overall strategy's KPIs\n",
    "CAGR(pflio(return_df,6,3))\n",
    "sharpe(pflio(return_df,6,3),0.025)\n",
    "max_dd(pflio(return_df,6,3)) "
   ]
  },
  {
   "cell_type": "code",
   "execution_count": 49,
   "metadata": {},
   "outputs": [
    {
     "name": "stdout",
     "output_type": "stream",
     "text": [
      "[*********************100%%**********************]  1 of 1 completed\n"
     ]
    },
    {
     "data": {
      "text/plain": [
       "0.2320126616506342"
      ]
     },
     "execution_count": 49,
     "metadata": {},
     "output_type": "execute_result"
    }
   ],
   "source": [
    "\n",
    "#calculating KPIs for Index buy and hold strategy over the same period\n",
    "DJI = yf.download(\"^DJI\",dt.date.today()-dt.timedelta(3650),dt.date.today(),interval='1mo')\n",
    "DJI[\"mon_ret\"] = DJI[\"Adj Close\"].pct_change().fillna(0)\n",
    "CAGR(DJI)\n",
    "sharpe(DJI,0.025)\n",
    "max_dd(DJI)"
   ]
  },
  {
   "cell_type": "code",
   "execution_count": 50,
   "metadata": {},
   "outputs": [
    {
     "name": "stdout",
     "output_type": "stream",
     "text": [
      "['JPM', 'MRK', 'UNH', 'MSFT', 'MMM', 'WMT']\n",
      "['JPM', 'UNH', 'MMM', 'INTC', 'V', 'XOM']\n",
      "['JPM', 'UNH', 'V', 'MRK', 'CAT', 'MSFT']\n",
      "['UNH', 'V', 'MRK', 'DIS', 'AXP', 'MRK']\n",
      "['UNH', 'MRK', 'MRK', 'T', 'MSFT', 'JNJ']\n",
      "['MRK', 'MRK', 'JNJ', 'TRV', 'KO', 'CAT']\n",
      "['JNJ', 'TRV', 'KO', 'VZ', 'CSCO', 'UNH']\n",
      "['JNJ', 'KO', 'UNH', 'INTC', 'CAT', 'GS']\n",
      "['UNH', 'INTC', 'GS', 'INTC', 'IBM', 'MSFT']\n",
      "['UNH', 'GS', 'MSFT', 'HD', 'CAT', 'PG']\n",
      "['GS', 'MSFT', 'PG', 'NKE', 'JNJ', 'GS']\n",
      "['PG', 'NKE', 'V', 'UNH', 'MMM', 'TRV']\n",
      "['PG', 'NKE', 'V', 'WMT', 'CSCO', 'INTC']\n",
      "['PG', 'V', 'CSCO', 'HD', 'JPM', 'GS']\n",
      "['V', 'CSCO', 'HD', 'BA', 'MRK', 'UNH']\n",
      "['CSCO', 'HD', 'UNH', 'DIS', 'JPM', 'CSCO']\n",
      "['HD', 'UNH', 'DIS', 'UNH', 'NKE', 'PFE']\n",
      "['DIS', 'NKE', 'PFE', 'MSFT', 'GE', 'CAT']\n",
      "['DIS', 'NKE', 'PFE', 'UNH', 'INTC', 'GS']\n",
      "['DIS', 'NKE', 'GS', 'NKE', 'DIS', 'JPM']\n",
      "['NKE', 'NKE', 'V', 'TRV', 'PFE', 'NKE']\n",
      "['NKE', 'NKE', 'NKE', 'AXP', 'HD', 'VZ']\n",
      "['NKE', 'NKE', 'NKE', 'NKE', 'INTC', 'MCD']\n",
      "['INTC', 'MCD', 'MSFT', 'GE', 'TRV', 'MCD']\n",
      "['INTC', 'MSFT', 'GE', 'HD', 'JPM', 'GE']\n",
      "['MSFT', 'GE', 'GE', 'PG', 'UNH', 'MCD']\n",
      "['MSFT', 'PG', 'MCD', 'WMT', 'VZ', 'T']\n",
      "['WMT', 'VZ', 'T', 'CSCO', 'CAT', 'IBM']\n",
      "['CSCO', 'CAT', 'IBM', 'IBM', 'CAT', 'AXP']\n",
      "['CAT', 'CAT', 'AXP', 'PFE', 'JPM', 'AXP']\n",
      "['PFE', 'JPM', 'CSCO', 'MSFT', 'PFE', 'WMT']\n",
      "['PFE', 'PFE', 'WMT', 'T', 'VZ', 'JNJ']\n",
      "['PFE', 'PFE', 'JNJ', 'MSFT', 'CAT', 'HD']\n",
      "['MSFT', 'CAT', 'HD', 'MRK', 'GS', 'JPM']\n",
      "['MSFT', 'CAT', 'MRK', 'CAT', 'INTC', 'UNH']\n",
      "['MSFT', 'MRK', 'UNH', 'GS', 'BA', 'MSFT']\n",
      "['UNH', 'GS', 'BA', 'GS', 'JPM', 'CAT']\n",
      "['GS', 'GS', 'JPM', 'T', 'GS', 'TRV']\n",
      "['JPM', 'T', 'TRV', 'DIS', 'MRK', 'V']\n",
      "['JPM', 'MRK', 'V', 'CSCO', 'BA', 'GS']\n",
      "['V', 'CSCO', 'BA', 'MSFT', 'MMM', 'DIS']\n",
      "['V', 'BA', 'MSFT', 'CAT', 'MCD', 'UNH']\n",
      "['V', 'CAT', 'MCD', 'MCD', 'KO', 'WMT']\n",
      "['CAT', 'MCD', 'MCD', 'NKE', 'JPM', 'AXP']\n",
      "['CAT', 'MCD', 'MCD', 'BA', 'VZ', 'V']\n",
      "['CAT', 'V', 'V', 'CAT', 'UNH', 'CSCO']\n",
      "['CAT', 'CAT', 'CSCO', 'HD', 'INTC', 'XOM']\n",
      "['CAT', 'CAT', 'INTC', 'INTC', 'WMT', 'MSFT']\n",
      "['CAT', 'CAT', 'WMT', 'WMT', 'CSCO', 'T']\n",
      "['CAT', 'CAT', 'T', 'CAT', 'BA', 'T']\n",
      "['BA', 'BA', 'TRV', 'MSFT', 'NKE', 'V']\n",
      "['BA', 'BA', 'V', 'CSCO', 'INTC', 'BA']\n",
      "['V', 'CSCO', 'INTC', 'INTC', 'PG', 'KO']\n",
      "['V', 'CSCO', 'KO', 'UNH', 'MRK', 'MCD']\n",
      "['V', 'UNH', 'MRK', 'INTC', 'CAT', 'MSFT']\n",
      "['V', 'UNH', 'MRK', 'NKE', 'PG', 'VZ']\n",
      "['UNH', 'MRK', 'PG', 'JPM', 'PFE', 'MRK']\n",
      "['UNH', 'MRK', 'MRK', 'CSCO', 'WMT', 'V']\n",
      "['MRK', 'MRK', 'V', 'CAT', 'BA', 'XOM']\n",
      "['MRK', 'MRK', 'BA', 'VZ', 'WMT', 'PG']\n",
      "['MRK', 'MRK', 'PG', 'CAT', 'AXP', 'MMM']\n",
      "['MRK', 'MRK', 'PG', 'GE', 'NKE', 'PG']\n",
      "['GE', 'NKE', 'GE', 'BA', 'GS', 'IBM']\n",
      "['GE', 'GE', 'BA', 'BA', 'INTC', 'CSCO']\n",
      "['INTC', 'CSCO', 'MSFT', 'V', 'PG', 'CSCO']\n",
      "['MSFT', 'V', 'DIS', 'JPM', 'MSFT', 'GS']\n",
      "['V', 'DIS', 'UNH', 'PFE', 'TRV', 'T']\n",
      "['V', 'DIS', 'T', 'CAT', 'GS', 'GE']\n",
      "['V', 'DIS', 'GS', 'PG', 'GS', 'IBM']\n",
      "['V', 'DIS', 'PG', 'BA', 'HD', 'VZ']\n",
      "['PG', 'BA', 'VZ', 'NKE', 'INTC', 'IBM']\n",
      "['PG', 'VZ', 'INTC', 'UNH', 'GE', 'INTC']\n",
      "['UNH', 'GE', 'DIS', 'GE', 'UNH', 'BA']\n",
      "['UNH', 'UNH', 'NKE', 'JNJ', 'CSCO', 'JPM']\n",
      "['NKE', 'JNJ', 'CSCO', 'GE', 'MCD', 'MSFT']\n",
      "['NKE', 'MCD', 'MSFT', 'HD', 'T', 'CAT']\n",
      "['NKE', 'MSFT', 'CAT', 'WMT', 'MRK', 'VZ']\n",
      "['MSFT', 'WMT', 'VZ', 'XOM', 'GS', 'HD']\n",
      "['MSFT', 'GS', 'HD', 'CSCO', 'NKE', 'HD']\n",
      "['MSFT', 'GS', 'BA', 'MSFT', 'TRV', 'CAT']\n",
      "['TRV', 'CAT', 'PFE', 'PG', 'WMT', 'KO']\n",
      "['CAT', 'PG', 'WMT', 'NKE', 'DIS', 'V']\n",
      "['CAT', 'WMT', 'NKE', 'NKE', 'CAT', 'MCD']\n",
      "['CAT', 'WMT', 'CAT', 'GE', 'TRV', 'CAT']\n",
      "['GE', 'BA', 'GE', 'AXP', 'DIS', 'GS']\n",
      "['DIS', 'GS', 'DIS', 'GS', 'XOM', 'JNJ']\n",
      "['XOM', 'JNJ', 'INTC', 'XOM', 'MSFT', 'JNJ']\n",
      "['XOM', 'INTC', 'XOM', 'XOM', 'CAT', 'GS']\n",
      "['INTC', 'CAT', 'BA', 'HD', 'CSCO', 'IBM']\n",
      "['HD', 'CSCO', 'IBM', 'V', 'AXP', 'UNH']\n",
      "['CSCO', 'AXP', 'UNH', 'JPM', 'GE', 'GS']\n",
      "['CSCO', 'AXP', 'GS', 'NKE', 'XOM', 'MSFT']\n",
      "['CSCO', 'NKE', 'MSFT', 'PFE', 'NKE', 'KO']\n",
      "['CSCO', 'MSFT', 'PFE', 'GS', 'PFE', 'CSCO']\n",
      "['MSFT', 'PFE', 'PFE', 'XOM', 'JPM', 'MCD']\n",
      "['MSFT', 'XOM', 'JPM', 'MRK', 'UNH', 'MSFT']\n",
      "['MSFT', 'UNH', 'MSFT', 'PFE', 'HD', 'PG']\n",
      "['UNH', 'PFE', 'PG', 'IBM', 'CSCO', 'KO']\n",
      "['PG', 'IBM', 'KO', 'XOM', 'AXP', 'MRK']\n",
      "['KO', 'XOM', 'AXP', 'AXP', 'DIS', 'TRV']\n",
      "['KO', 'XOM', 'TRV', 'CAT', 'PFE', 'WMT']\n",
      "['KO', 'XOM', 'WMT', 'MRK', 'T', 'PG']\n",
      "['XOM', 'MRK', 'T', 'T', 'XOM', 'VZ']\n",
      "['MRK', 'VZ', 'BA', 'UNH', 'IBM', 'PFE']\n",
      "['MRK', 'BA', 'UNH', 'BA', 'GE', 'XOM']\n",
      "['BA', 'BA', 'GE', 'DIS', 'TRV', 'BA']\n",
      "['GE', 'DIS', 'TRV', 'JNJ', 'MRK', 'WMT']\n",
      "['GE', 'TRV', 'MRK', 'CAT', 'XOM', 'GE']\n",
      "['GE', 'CAT', 'GE', 'BA', 'NKE', 'GS']\n",
      "['CAT', 'BA', 'NKE', 'NKE', 'BA', 'PFE']\n",
      "['BA', 'BA', 'DIS', 'GE', 'AXP', 'BA']\n",
      "['GE', 'AXP', 'GE', 'JPM', 'MSFT', 'CSCO']\n",
      "['GE', 'GE', 'MSFT', 'INTC', 'MSFT', 'GE']\n",
      "['MSFT', 'MSFT', 'MRK', 'XOM', 'MSFT', 'TRV']\n",
      "['MSFT', 'MSFT', 'MSFT', 'MSFT', 'CSCO', 'GE']\n",
      "['CSCO', 'GE', 'CAT', 'HD', 'AXP', 'MMM']\n",
      "['CAT', 'HD', 'MMM', 'BA', 'MMM', 'GS']\n",
      "['CAT', 'HD', 'CSCO', 'CAT', 'VZ', 'XOM']\n",
      "['CAT', 'CAT', 'XOM', 'XOM', 'UNH', 'TRV']\n"
     ]
    },
    {
     "data": {
      "text/plain": [
       "<matplotlib.legend.Legend at 0x1ca52a56d10>"
      ]
     },
     "execution_count": 50,
     "metadata": {},
     "output_type": "execute_result"
    },
    {
     "data": {
      "image/png": "[encoded data removed]",
      "text/plain": [
       "<Figure size 640x480 with 1 Axes>"
      ]
     },
     "metadata": {},
     "output_type": "display_data"
    }
   ],
   "source": [
    "#visualization\n",
    "fig, ax = plt.subplots()\n",
    "plt.plot((1+pflio(return_df,6,3)).cumprod())\n",
    "plt.plot((1+DJI[\"mon_ret\"].reset_index(drop=True)).cumprod())\n",
    "plt.title(\"Index Return vs Strategy Return\")\n",
    "plt.ylabel(\"cumulative return\")\n",
    "plt.xlabel(\"months\")\n",
    "ax.legend([\"Strategy Return\",\"Index Return\"])"
   ]
  },
  {
   "cell_type": "code",
   "execution_count": null,
   "metadata": {},
   "outputs": [],
   "source": []
  }
 ],
 "metadata": {
  "kernelspec": {
   "display_name": "Python 3",
   "language": "python",
   "name": "python3"
  },
  "language_info": {
   "codemirror_mode": {
    "name": "ipython",
    "version": 3
   },
   "file_extension": ".py",
   "mimetype": "text/x-python",
   "name": "python",
   "nbconvert_exporter": "python",
   "pygments_lexer": "ipython3",
   "version": "3.11.5"
  },
  "orig_nbformat": 4
 },
 "nbformat": 4,
 "nbformat_minor": 2
}
