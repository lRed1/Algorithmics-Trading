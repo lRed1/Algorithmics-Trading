{
 "cells": [
  {
   "cell_type": "code",
   "execution_count": 1,
   "metadata": {},
   "outputs": [],
   "source": [
    "import pandas as pd\n",
    "import openpyxl\n"
   ]
  },
  {
   "cell_type": "code",
   "execution_count": 2,
   "metadata": {},
   "outputs": [],
   "source": [
    "# Ruta del archivo CSV de entrada\n",
    "archivo_csv = r\"C:\\Users\\IVAN\\Downloads\\data    .csv\" \n",
    "# Leer el archivo CSV en un DataFrame de pandas\n",
    "data = pd.read_csv(archivo_csv)\n",
    "# Ruta del archivo Excel de salida\n",
    "archivo_excel = r'C:\\Users\\IVAN\\Documents\\VSCODE\\Python\\Tesis\\WebScrapping\\archivo_excel.xlsx'\n"
   ]
  },
  {
   "cell_type": "code",
   "execution_count": 3,
   "metadata": {},
   "outputs": [
    {
     "name": "stdout",
     "output_type": "stream",
     "text": [
      "Archivo CSV 'C:\\Users\\IVAN\\Downloads\\data.csv' convertido y guardado como 'C:\\Users\\IVAN\\Documents\\VSCODE\\Python\\Tesis\\WebScrapping\\archivo_excel.xlsx' en formato Excel.\n"
     ]
    }
   ],
   "source": [
    "# Guardar el DataFrame en un archivo Excel\n",
    "data.to_excel(archivo_excel, index=False,engine = 'openpyxl')  # El argumento index=False evita que se incluya la columna de índice en el archivo Excel\n",
    "\n",
    "print(f\"Archivo CSV '{archivo_csv}' convertido y guardado como '{archivo_excel}' en formato Excel.\")"
   ]
  }
 ],
 "metadata": {
  "kernelspec": {
   "display_name": "Python 3",
   "language": "python",
   "name": "python3"
  },
  "language_info": {
   "codemirror_mode": {
    "name": "ipython",
    "version": 3
   },
   "file_extension": ".py",
   "mimetype": "text/x-python",
   "name": "python",
   "nbconvert_exporter": "python",
   "pygments_lexer": "ipython3",
   "version": "3.11.5"
  },
  "orig_nbformat": 4
 },
 "nbformat": 4,
 "nbformat_minor": 2
}
