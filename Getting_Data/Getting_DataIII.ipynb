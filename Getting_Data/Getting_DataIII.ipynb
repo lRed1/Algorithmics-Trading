{
 "cells": [
  {
   "cell_type": "markdown",
   "metadata": {},
   "source": [
    "IMPORTING DATA FROM ALPHA VANTAGE API"
   ]
  },
  {
   "cell_type": "code",
   "execution_count": null,
   "metadata": {},
   "outputs": [],
   "source": [
    "# importing libraries\n",
    "from alpha_vantage.timeseries import TimeSeries\n",
    "import pandas as pd\n",
    "import time"
   ]
  },
  {
   "cell_type": "code",
   "execution_count": null,
   "metadata": {},
   "outputs": [],
   "source": [
    "key_path = \"C:\\\\Users\\\\IVAN\\\\Documents\\\\key.txt\"\n",
    "\n",
    "\n"
   ]
  },
  {
   "cell_type": "code",
   "execution_count": null,
   "metadata": {},
   "outputs": [],
   "source": [
    "# extracting data for a single ticker\n",
    "ts = TimeSeries(key=open(key_path,'r').read(), output_format='pandas')\n",
    "data = ts.get_daily(symbol='EURUSD', outputsize='full')[0]\n",
    "data.columns = [\"open\",\"high\",\"low\",\"close\",\"volume\"]\n",
    "data = data.iloc[::-1]"
   ]
  },
  {
   "cell_type": "code",
   "execution_count": null,
   "metadata": {},
   "outputs": [],
   "source": [
    "# extracting stock data (historical close price) for multiple stocks\n",
    "all_tickers = [\"AAPL\",\"MSFT\",\"CSCO\",\"AMZN\",\"GOOG\",\n",
    "               \"FB\",\"BA\",\"MMM\",\"XOM\",\"NKE\",\"INTC\"]\n",
    "close_prices = pd.DataFrame()\n",
    "api_call_count = 1\n",
    "ts = TimeSeries(key=open(key_path,'r').read(), output_format='pandas')\n",
    "start_time = time.time()\n",
    "for ticker in all_tickers:\n",
    "    data = ts.get_intraday(symbol=ticker,interval='1min', outputsize='compact')[0]\n",
    "    api_call_count+=1\n",
    "    data.columns = [\"open\",\"high\",\"low\",\"close\",\"volume\"]\n",
    "    data = data.iloc[::-1]\n",
    "    close_prices[ticker] = data[\"close\"]\n",
    "    if api_call_count==5:\n",
    "        api_call_count = 1\n",
    "        time.sleep(60 - ((time.time() - start_time) % 60.0))\n",
    "\n"
   ]
  },
  {
   "cell_type": "code",
   "execution_count": null,
   "metadata": {},
   "outputs": [],
   "source": [
    "# extracting ohlcv data for multiple stocks\n",
    "all_tickers = [\"AAPL\",\"MSFT\",\"CSCO\",\"AMZN\",\"GOOG\",\n",
    "               \"FB\",\"BA\",\"MMM\",\"XOM\",\"NKE\",\"INTC\"]\n",
    "ohlv_dict = {}\n",
    "api_call_count = 1\n",
    "ts = TimeSeries(key=open(key_path,'r').read(), output_format='pandas')\n",
    "start_time = time.time()\n",
    "for ticker in all_tickers:\n",
    "    data = ts.get_intraday(symbol=ticker,interval='1min', outputsize='compact')[0]\n",
    "    api_call_count+=1\n",
    "    data.columns = [\"open\",\"high\",\"low\",\"close\",\"volume\"]\n",
    "    data = data.iloc[::-1]\n",
    "    ohlv_dict[ticker] = data\n",
    "    if api_call_count==5:\n",
    "        api_call_count = 1\n",
    "        time.sleep(60 - ((time.time() - start_time) % 60.0))"
   ]
  }
 ],
 "metadata": {
  "kernelspec": {
   "display_name": "Python 3",
   "language": "python",
   "name": "python3"
  },
  "language_info": {
   "codemirror_mode": {
    "name": "ipython",
    "version": 3
   },
   "file_extension": ".py",
   "mimetype": "text/x-python",
   "name": "python",
   "nbconvert_exporter": "python",
   "pygments_lexer": "ipython3",
   "version": "3.11.5"
  },
  "orig_nbformat": 4
 },
 "nbformat": 4,
 "nbformat_minor": 2
}
