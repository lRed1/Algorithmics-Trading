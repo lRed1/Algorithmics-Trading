{
 "cells": [
  {
   "cell_type": "markdown",
   "metadata": {},
   "source": [
    "IMPORTING DATA WITH YFINANCE\n"
   ]
  },
  {
   "cell_type": "code",
   "execution_count": 1,
   "metadata": {},
   "outputs": [],
   "source": [
    "import yfinance as yf\n",
    "import pandas as pd\n",
    "import numpy as np\n",
    "import datetime as dt"
   ]
  },
  {
   "cell_type": "code",
   "execution_count": null,
   "metadata": {},
   "outputs": [],
   "source": [
    "data = yf.download(\"MSFT\",period = \"6mo\")\n",
    "print(data)"
   ]
  },
  {
   "cell_type": "code",
   "execution_count": null,
   "metadata": {},
   "outputs": [],
   "source": [
    "#Otra forma de importar\n",
    "data = yf.download(\"MSFT\", start = \"2012-01-01\",end = \"2022-04-24\", interval = \"1d\")\n",
    "print(data)"
   ]
  },
  {
   "cell_type": "code",
   "execution_count": null,
   "metadata": {},
   "outputs": [],
   "source": [
    "data = yf.download(\"MSFT\", period = '1mo',  interval = \"5m\")\n",
    "print(data)"
   ]
  },
  {
   "cell_type": "markdown",
   "metadata": {},
   "source": [
    "IMPORTING DATA FOR MULTIPLE STOCKS\n"
   ]
  },
  {
   "cell_type": "code",
   "execution_count": null,
   "metadata": {},
   "outputs": [],
   "source": [
    "stocks = [\"AMZN\", \"MSFT\", \"INTC\", \"GOOG\", \"3988.HK\"]\n",
    "start = dt.datetime.today() - dt.timedelta(360) #Y/Y\n",
    "end = dt.datetime.today()\n",
    "cl_price = pd.DataFrame()  #Empty dataframe which will be filled with closing prices\n",
    "ohlcv_data = {} "
   ]
  },
  {
   "cell_type": "code",
   "execution_count": null,
   "metadata": {},
   "outputs": [],
   "source": [
    "#Looping over tickers and creating a dataframe with close prices\n",
    "for ticker in stocks:\n",
    "    cl_price[ticker] =  yf.download(ticker, start, end)[\"Adj Close\"]\n",
    "for ticker in stocks:\n",
    "    ohlcv_data[ticker] = yf.download(ticker, start,end)\n",
    " "
   ]
  },
  {
   "cell_type": "code",
   "execution_count": 13,
   "metadata": {},
   "outputs": [
    {
     "data": {
      "text/plain": [
       "Date\n",
       "2022-09-26    237.050003\n",
       "2022-09-27    239.979996\n",
       "2022-09-28    236.809998\n",
       "2022-09-29    238.889999\n",
       "2022-09-30    238.289993\n",
       "                 ...    \n",
       "2023-09-13    331.309998\n",
       "2023-09-14    339.149994\n",
       "2023-09-15    336.920013\n",
       "2023-09-18    327.799988\n",
       "2023-09-19    326.170013\n",
       "Name: Open, Length: 247, dtype: float64"
      ]
     },
     "execution_count": 13,
     "metadata": {},
     "output_type": "execute_result"
    }
   ],
   "source": []
  },
  {
   "cell_type": "code",
   "execution_count": null,
   "metadata": {},
   "outputs": [],
   "source": []
  }
 ],
 "metadata": {
  "kernelspec": {
   "display_name": "Python 3",
   "language": "python",
   "name": "python3"
  },
  "language_info": {
   "codemirror_mode": {
    "name": "ipython",
    "version": 3
   },
   "file_extension": ".py",
   "mimetype": "text/x-python",
   "name": "python",
   "nbconvert_exporter": "python",
   "pygments_lexer": "ipython3",
   "version": "3.11.5"
  },
  "orig_nbformat": 4
 },
 "nbformat": 4,
 "nbformat_minor": 2
}
