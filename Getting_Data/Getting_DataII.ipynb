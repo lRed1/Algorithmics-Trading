{
 "cells": [
  {
   "cell_type": "markdown",
   "metadata": {},
   "source": [
    "IMPORTING DATA WITH YAHOOFINANCIALS"
   ]
  },
  {
   "cell_type": "code",
   "execution_count": 16,
   "metadata": {},
   "outputs": [],
   "source": [
    "import pandas as pd\n",
    "import numpy as np\n",
    "import yfinance as yf\n",
    "import datetime as dt\n",
    "\n",
    "from yahoofinancials import YahooFinancials\n"
   ]
  },
  {
   "cell_type": "code",
   "execution_count": 17,
   "metadata": {},
   "outputs": [],
   "source": [
    "ticker = \"MSFT\"\n",
    "yahoo_financials = YahooFinancials(ticker)\n",
    "data = yahoo_financials.get_historical_price_data(\"2018-04-24\",\"2022-04-24\",\"daily\")"
   ]
  },
  {
   "cell_type": "markdown",
   "metadata": {},
   "source": [
    "IMPORTING DATA FOR MULTIPLE STOCKS"
   ]
  },
  {
   "cell_type": "code",
   "execution_count": 18,
   "metadata": {},
   "outputs": [],
   "source": [
    "all_tickers = [\"AAPL\",\"MSFT\",\"CSCO\",\"AMZN\",\"INTC\"]\n",
    "ticker = \"MSFT\"\n",
    "\n",
    "#extracting stock data (historical close price) for the stocks identified\n",
    "close_prices = pd.DataFrame()\n",
    "end_date = (dt.date.today()).strftime('%Y-%m-%d')\n",
    "beg_date = (dt.date.today() - dt.timedelta(1825)).strftime('%Y-%m-%d')\n",
    "for ticker in all_tickers:\n",
    "    yahoo_financials = YahooFinancials(ticker)\n",
    "    json_obj = yahoo_financials.get_historical_price_data(beg_date, end_date,\"daily\")\n",
    "    ohlv = json_obj[ticker]['prices']\n",
    "    temp = pd.DataFrame(ohlv)[[\"formatted_date\",\"adjclose\"]]\n",
    "    temp.set_index(\"formatted_date\",inplace = True)\n",
    "    temp.dropna(inplace = True)\n",
    "    close_prices[ticker] = temp[\"adjclose\"]\n"
   ]
  },
  {
   "cell_type": "code",
   "execution_count": null,
   "metadata": {},
   "outputs": [],
   "source": []
  }
 ],
 "metadata": {
  "kernelspec": {
   "display_name": "Python 3",
   "language": "python",
   "name": "python3"
  },
  "language_info": {
   "codemirror_mode": {
    "name": "ipython",
    "version": 3
   },
   "file_extension": ".py",
   "mimetype": "text/x-python",
   "name": "python",
   "nbconvert_exporter": "python",
   "pygments_lexer": "ipython3",
   "version": "3.11.5"
  },
  "orig_nbformat": 4
 },
 "nbformat": 4,
 "nbformat_minor": 2
}
