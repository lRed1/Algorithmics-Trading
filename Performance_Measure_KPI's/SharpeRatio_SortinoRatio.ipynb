{
 "cells": [
  {
   "cell_type": "code",
   "execution_count": 34,
   "metadata": {},
   "outputs": [],
   "source": [
    "import yfinance as yf\n",
    "import numpy as np\n",
    "import pandas as pd"
   ]
  },
  {
   "cell_type": "code",
   "execution_count": 35,
   "metadata": {},
   "outputs": [],
   "source": [
    "tickers = [\"AMZN\", \"GOOG\", \"META\"]\n",
    "ohlcv_data = {}"
   ]
  },
  {
   "cell_type": "code",
   "execution_count": 36,
   "metadata": {},
   "outputs": [
    {
     "name": "stdout",
     "output_type": "stream",
     "text": [
      "[*********************100%%**********************]  1 of 1 completed\n",
      "[*********************100%%**********************]  1 of 1 completed\n",
      "[*********************100%%**********************]  1 of 1 completed\n"
     ]
    }
   ],
   "source": [
    "for ticker in tickers:\n",
    "    temp =  yf.download(ticker, period = '7mo', interval = '1d')\n",
    "    temp.dropna(how = 'any', inplace = True)\n",
    "    ohlcv_data[ticker] = temp"
   ]
  },
  {
   "cell_type": "code",
   "execution_count": 37,
   "metadata": {},
   "outputs": [],
   "source": [
    "def CAGR(DF):\n",
    "    df = DF.copy()\n",
    "    df[\"return\"] = df[\"Adj Close\"].pct_change()\n",
    "    df[\"cum_return\"] = (1 + df[\"return\"]).cumprod()\n",
    "    n = len(df)/252\n",
    "    CAGR = (df[\"cum_return\"][-1])**(1/n) - 1\n",
    "    return CAGR"
   ]
  },
  {
   "cell_type": "code",
   "execution_count": 38,
   "metadata": {},
   "outputs": [],
   "source": [
    "def volatility(DF):\n",
    "    \"function to calculate annualized volatility of a trading strategy\"\n",
    "    df = DF.copy()\n",
    "    df[\"daily_ret\"] = DF[\"Adj Close\"].pct_change()\n",
    "    vol = df[\"daily_ret\"].std() * np.sqrt(252)\n",
    "    return vol\n"
   ]
  },
  {
   "cell_type": "code",
   "execution_count": 39,
   "metadata": {},
   "outputs": [],
   "source": [
    "def sharpe(DF, rf):\n",
    "    \"function to calculate Sharpe Ratio of a trading strategy\"\n",
    "    df = DF.copy()\n",
    "    rd = 0.03\n",
    "    return (CAGR(df) - rf)/volatility(df)"
   ]
  },
  {
   "cell_type": "code",
   "execution_count": 40,
   "metadata": {},
   "outputs": [],
   "source": [
    "def sortino(DF, rf):\n",
    "    \"function to calculate Sortino Ratio of a trading strategy\"\n",
    "    df = DF.copy()\n",
    "    df[\"return\"] = df[\"Adj Close\"].pct_change()\n",
    "    neg_return = np.where(df[\"return\"]>0,0,df[\"return\"])\n",
    "    #below you will see two ways to calculate the denominator (neg_vol), some people use the\n",
    "    #standard deviation of negative returns while others use a downward deviation approach,\n",
    "    #you can use either. However, downward deviation approach is more widely used\n",
    "    neg_vol = np.sqrt((pd.Series(neg_return[neg_return != 0]) ** 2).mean() * 252)\n",
    "    #neg_vol = pd.Series(neg_return[neg_return != 0]).std() * np.sqrt(252)\n",
    "    return (CAGR(df) - rf)/neg_vol"
   ]
  },
  {
   "cell_type": "code",
   "execution_count": 41,
   "metadata": {},
   "outputs": [
    {
     "name": "stdout",
     "output_type": "stream",
     "text": [
      "Sharpe of AMZN = 2.424780562865726\n",
      "Sortino of AMZN = 2.7395128552912387\n",
      "Sharpe of GOOG = 3.363111413707972\n",
      "Sortino of GOOG = 3.9071648762938094\n",
      "Sharpe of META = 4.763570512553071\n",
      "Sortino of META = 6.389721246318833\n"
     ]
    },
    {
     "name": "stderr",
     "output_type": "stream",
     "text": [
      "C:\\Users\\IVAN\\AppData\\Local\\Temp\\ipykernel_15332\\667503414.py:6: FutureWarning: Series.__getitem__ treating keys as positions is deprecated. In a future version, integer keys will always be treated as labels (consistent with DataFrame behavior). To access a value by position, use `ser.iloc[pos]`\n",
      "  CAGR = (df[\"cum_return\"][-1])**(1/n) - 1\n",
      "C:\\Users\\IVAN\\AppData\\Local\\Temp\\ipykernel_15332\\667503414.py:6: FutureWarning: Series.__getitem__ treating keys as positions is deprecated. In a future version, integer keys will always be treated as labels (consistent with DataFrame behavior). To access a value by position, use `ser.iloc[pos]`\n",
      "  CAGR = (df[\"cum_return\"][-1])**(1/n) - 1\n",
      "C:\\Users\\IVAN\\AppData\\Local\\Temp\\ipykernel_15332\\667503414.py:6: FutureWarning: Series.__getitem__ treating keys as positions is deprecated. In a future version, integer keys will always be treated as labels (consistent with DataFrame behavior). To access a value by position, use `ser.iloc[pos]`\n",
      "  CAGR = (df[\"cum_return\"][-1])**(1/n) - 1\n",
      "C:\\Users\\IVAN\\AppData\\Local\\Temp\\ipykernel_15332\\667503414.py:6: FutureWarning: Series.__getitem__ treating keys as positions is deprecated. In a future version, integer keys will always be treated as labels (consistent with DataFrame behavior). To access a value by position, use `ser.iloc[pos]`\n",
      "  CAGR = (df[\"cum_return\"][-1])**(1/n) - 1\n",
      "C:\\Users\\IVAN\\AppData\\Local\\Temp\\ipykernel_15332\\667503414.py:6: FutureWarning: Series.__getitem__ treating keys as positions is deprecated. In a future version, integer keys will always be treated as labels (consistent with DataFrame behavior). To access a value by position, use `ser.iloc[pos]`\n",
      "  CAGR = (df[\"cum_return\"][-1])**(1/n) - 1\n",
      "C:\\Users\\IVAN\\AppData\\Local\\Temp\\ipykernel_15332\\667503414.py:6: FutureWarning: Series.__getitem__ treating keys as positions is deprecated. In a future version, integer keys will always be treated as labels (consistent with DataFrame behavior). To access a value by position, use `ser.iloc[pos]`\n",
      "  CAGR = (df[\"cum_return\"][-1])**(1/n) - 1\n"
     ]
    }
   ],
   "source": [
    "for ticker in ohlcv_data:\n",
    "    print(\"Sharpe of {} = {}\".format(ticker,sharpe(ohlcv_data[ticker],0.03)))\n",
    "    print(\"Sortino of {} = {}\".format(ticker,sortino(ohlcv_data[ticker],0.03)))\n",
    "    "
   ]
  },
  {
   "cell_type": "code",
   "execution_count": null,
   "metadata": {},
   "outputs": [],
   "source": []
  }
 ],
 "metadata": {
  "kernelspec": {
   "display_name": "Python 3",
   "language": "python",
   "name": "python3"
  },
  "language_info": {
   "codemirror_mode": {
    "name": "ipython",
    "version": 3
   },
   "file_extension": ".py",
   "mimetype": "text/x-python",
   "name": "python",
   "nbconvert_exporter": "python",
   "pygments_lexer": "ipython3",
   "version": "3.11.5"
  },
  "orig_nbformat": 4
 },
 "nbformat": 4,
 "nbformat_minor": 2
}
