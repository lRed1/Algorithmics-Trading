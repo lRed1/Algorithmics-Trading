{
 "cells": [
  {
   "cell_type": "code",
   "execution_count": null,
   "metadata": {},
   "outputs": [],
   "source": [
    "import requests\n",
    "from bs4 import BeautifulSoup"
   ]
  },
  {
   "cell_type": "code",
   "execution_count": null,
   "metadata": {},
   "outputs": [],
   "source": [
    "url = \"https://finance.yahoo.com/quote/AAPL/financials?p=AAPL\"\n",
    "headers = {\"User-Agent\": \"Chrome/117.0.5938.88\"}\n",
    "page = requests.get(url,headers = headers)\n",
    "page_content = page.content\n"
   ]
  },
  {
   "cell_type": "code",
   "execution_count": null,
   "metadata": {},
   "outputs": [],
   "source": [
    "income_statement = {}\n",
    "soup = BeautifulSoup(page_content, \"html.parser\")\n",
    "tabl = soup.find_all(\"div\",{\"class\":\"M(0) Whs(n) BdEnd Bdc($seperatorColor) D(itb)\"})\n",
    "for t in tabl:\n",
    "    rows = t.find_all(\"div\", {\"class\": \"D(tbr) fi-row Bgc($hoverBgColor):h\"})\n",
    "    for row in rows:\n",
    "        income_statement[row.get_text(separator = \"|\").split(\"|\")[0]] = row.get_text(separator = \"|\").split(\"|\")[1] \n",
    "        print(row.get_text(separator = \"|\"))"
   ]
  },
  {
   "cell_type": "code",
   "execution_count": null,
   "metadata": {},
   "outputs": [],
   "source": []
  },
  {
   "cell_type": "code",
   "execution_count": null,
   "metadata": {},
   "outputs": [],
   "source": []
  }
 ],
 "metadata": {
  "kernelspec": {
   "display_name": "Python 3",
   "language": "python",
   "name": "python3"
  },
  "language_info": {
   "codemirror_mode": {
    "name": "ipython",
    "version": 3
   },
   "file_extension": ".py",
   "mimetype": "text/x-python",
   "name": "python",
   "nbconvert_exporter": "python",
   "pygments_lexer": "ipython3",
   "version": "3.11.5"
  },
  "orig_nbformat": 4
 },
 "nbformat": 4,
 "nbformat_minor": 2
}
