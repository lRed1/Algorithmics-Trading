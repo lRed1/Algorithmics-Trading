{
 "cells": [
  {
   "cell_type": "code",
   "execution_count": 1,
   "metadata": {},
   "outputs": [
    {
     "name": "stdout",
     "output_type": "stream",
     "text": [
      "Los datos se han exportado correctamente a income_statement.xlsx\n"
     ]
    }
   ],
   "source": [
    "import requests\n",
    "from bs4 import BeautifulSoup\n",
    "import pandas as pd\n",
    "\n",
    "url = \"https://finance.yahoo.com/quote/AAPL/financials?p=AAPL\"\n",
    "headers = {\"User-Agent\": \"Chrome/117.0.5938.88\"}\n",
    "page = requests.get(url, headers=headers)\n",
    "page_content = page.content\n",
    "soup = BeautifulSoup(page_content, \"html.parser\")\n",
    "tabl = soup.find_all(\"div\", {\"class\": \"M(0) Whs(n) BdEnd Bdc($seperatorColor) D(itb)\"})\n",
    "\n",
    "# Crear una lista para almacenar los datos\n",
    "datos = []\n",
    "\n",
    "for t in tabl:\n",
    "    rows = t.find_all(\"div\", {\"class\": \"D(tbr) fi-row Bgc($hoverBgColor):h\"})\n",
    "    for row in rows:\n",
    "        income_statement = row.get_text(separator=\"|\").split(\"|\")\n",
    "        datos.append(income_statement[1:])  # Ignora la primera columna\n",
    "\n",
    "# Crear un DataFrame de pandas\n",
    "df = pd.DataFrame(datos)\n",
    "\n",
    "# Guardar el DataFrame en un archivo Excel a partir de la segunda columna y segunda fila\n",
    "output_file = \"income_statement.xlsx\"\n",
    "df.to_excel(output_file, index=False, startrow=1, startcol=1)\n",
    "\n",
    "print(f\"Los datos se han exportado correctamente a {output_file}\")\n"
   ]
  }
 ],
 "metadata": {
  "kernelspec": {
   "display_name": "Python 3",
   "language": "python",
   "name": "python3"
  },
  "language_info": {
   "codemirror_mode": {
    "name": "ipython",
    "version": 3
   },
   "file_extension": ".py",
   "mimetype": "text/x-python",
   "name": "python",
   "nbconvert_exporter": "python",
   "pygments_lexer": "ipython3",
   "version": "3.11.5"
  },
  "orig_nbformat": 4
 },
 "nbformat": 4,
 "nbformat_minor": 2
}
