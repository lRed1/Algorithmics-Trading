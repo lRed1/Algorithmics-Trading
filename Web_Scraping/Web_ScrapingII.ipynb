{
 "cells": [
  {
   "cell_type": "code",
   "execution_count": 86,
   "metadata": {},
   "outputs": [],
   "source": [
    "import requests\n",
    "import pandas as pd\n",
    "import numpy as np\n",
    "from bs4 import BeautifulSoup"
   ]
  },
  {
   "cell_type": "code",
   "execution_count": 87,
   "metadata": {},
   "outputs": [],
   "source": [
    "tickers =  [\"AAPL\", \"META\", \"CSCO\", \"3988.HK\"]\n",
    "income_statement_dict = {}\n",
    "balance_sheet_dict = {}\n",
    "cashflow_st_dict = {}"
   ]
  },
  {
   "cell_type": "code",
   "execution_count": 88,
   "metadata": {},
   "outputs": [],
   "source": [
    "for ticker in tickers:\n",
    "    #scraping income statement\n",
    "    url = \"https://finance.yahoo.com/quote/{}/financials?p={}\".format(ticker, ticker)\n",
    "    income_statement = {}\n",
    "    table_title = {}\n",
    "\n",
    "    headers = {\"User-Agent\": \"Chrome/117.0.5938.88\"}\n",
    "    page = requests.get(url, headers=headers)\n",
    "    page_content = page.content\n",
    "    soup = BeautifulSoup(page_content,\"html.parser\")\n",
    "    tabl = soup.find_all(\"div\" , {\"class\" : \"M(0) Whs(n) BdEnd Bdc($seperatorColor) D(itb)\"})\n",
    "    for t in tabl:\n",
    "        heading = t.find_all(\"div\" , {\"class\": \"D(tbr) C($primaryColor)\"})\n",
    "        for top_row in heading:\n",
    "            table_title[top_row.get_text(separator=\"|\").split(\"|\")[0]] = top_row.get_text(separator=\"|\").split(\"|\")[1:]\n",
    "        rows = t.find_all(\"div\" , {\"class\": \"D(tbr) fi-row Bgc($hoverBgColor):h\"})\n",
    "        for row in rows:\n",
    "            income_statement[row.get_text(separator=\"|\").split(\"|\")[0]] = row.get_text(separator=\"|\").split(\"|\")[1:]\n",
    "    temp = pd.DataFrame(income_statement).T\n",
    "    temp.columns = table_title[\"Breakdown\"]\n",
    "    income_statement_dict[ticker] = temp\n",
    "    "
   ]
  },
  {
   "cell_type": "code",
   "execution_count": 89,
   "metadata": {},
   "outputs": [],
   "source": [
    "for ticker in tickers:\n",
    "    #scraping balance sheet\n",
    "    url = \"https://finance.yahoo.com/quote/{}/balance-sheet?p={}\".format(ticker, ticker)\n",
    "    balance_sheet = {}\n",
    "    table_title = {}\n",
    "\n",
    "    headers = {\"User-Agent\": \"Chrome/117.0.5938.88\"}\n",
    "    page = requests.get(url, headers=headers)\n",
    "    page_content = page.content\n",
    "    soup = BeautifulSoup(page_content,\"html.parser\")\n",
    "    tabl = soup.find_all(\"div\" , {\"class\" : \"M(0) Whs(n) BdEnd Bdc($seperatorColor) D(itb)\"})\n",
    "    for t in tabl:\n",
    "        heading = t.find_all(\"div\" , {\"class\": \"D(tbr) C($primaryColor)\"})\n",
    "        for top_row in heading:\n",
    "            table_title[top_row.get_text(separator=\"|\").split(\"|\")[0]] = top_row.get_text(separator=\"|\").split(\"|\")[1:]\n",
    "        rows = t.find_all(\"div\" , {\"class\": \"D(tbr) fi-row Bgc($hoverBgColor):h\"})\n",
    "        for row in rows:\n",
    "            balance_sheet[row.get_text(separator=\"|\").split(\"|\")[0]] = row.get_text(separator=\"|\").split(\"|\")[1:]\n",
    "    temp = pd.DataFrame(balance_sheet).T\n",
    "    temp.columns = table_title[\"Breakdown\"]\n",
    "    balance_sheet_dict[ticker] = temp\n",
    "    "
   ]
  },
  {
   "cell_type": "code",
   "execution_count": 90,
   "metadata": {},
   "outputs": [],
   "source": [
    "for ticker in tickers:\n",
    "    #scraping cash flow\n",
    "    url = \"https://finance.yahoo.com/quote/{}/cash-flow?p={}\".format(ticker, ticker)\n",
    "    cash_flow = {}\n",
    "    table_title = {}\n",
    "\n",
    "    headers = {\"User-Agent\": \"Chrome/117.0.5938.88\"}\n",
    "    page = requests.get(url, headers=headers)\n",
    "    page_content = page.content\n",
    "    soup = BeautifulSoup(page_content,\"html.parser\")\n",
    "    tabl = soup.find_all(\"div\" , {\"class\" : \"M(0) Whs(n) BdEnd Bdc($seperatorColor) D(itb)\"})\n",
    "    for t in tabl:\n",
    "        heading = t.find_all(\"div\" , {\"class\": \"D(tbr) C($primaryColor)\"})\n",
    "        for top_row in heading:\n",
    "            table_title[top_row.get_text(separator=\"|\").split(\"|\")[0]] = top_row.get_text(separator=\"|\").split(\"|\")[1:]\n",
    "        rows = t.find_all(\"div\" , {\"class\": \"D(tbr) fi-row Bgc($hoverBgColor):h\"})\n",
    "        for row in rows:\n",
    "            cash_flow[row.get_text(separator=\"|\").split(\"|\")[0]] = row.get_text(separator=\"|\").split(\"|\")[1:]\n",
    "    temp = pd.DataFrame(cash_flow).T\n",
    "    temp.columns = table_title[\"Breakdown\"]\n",
    "    cashflow_st_dict[ticker] = temp\n",
    "    "
   ]
  },
  {
   "cell_type": "code",
   "execution_count": 91,
   "metadata": {},
   "outputs": [],
   "source": [
    "for ticker in tickers:\n",
    "    for col in income_statement_dict[ticker].columns:\n",
    "        income_statement_dict[ticker][col] = income_statement_dict[ticker][col].str.replace(',|- ','')\n",
    "        income_statement_dict[ticker][col] = pd.to_numeric(income_statement_dict[ticker][col], errors = 'coerce')\n",
    "        cashflow_st_dict[ticker][col] = cashflow_st_dict[ticker][col].str.replace(',|- ','')\n",
    "        cashflow_st_dict[ticker][col] = pd.to_numeric(cashflow_st_dict[ticker][col], errors = 'coerce') \n",
    "        if col!=\"ttm\": #yahoo has ttm column for income statement and cashflow statement only\n",
    "            balance_sheet_dict[ticker][col] = balance_sheet_dict[ticker][col].str.replace(',|- ','')\n",
    "            balance_sheet_dict[ticker][col] = pd.to_numeric(balance_sheet_dict[ticker][col], errors = 'coerce')"
   ]
  },
  {
   "cell_type": "code",
   "execution_count": null,
   "metadata": {},
   "outputs": [],
   "source": []
  }
 ],
 "metadata": {
  "kernelspec": {
   "display_name": "Python 3",
   "language": "python",
   "name": "python3"
  },
  "language_info": {
   "codemirror_mode": {
    "name": "ipython",
    "version": 3
   },
   "file_extension": ".py",
   "mimetype": "text/x-python",
   "name": "python",
   "nbconvert_exporter": "python",
   "pygments_lexer": "ipython3",
   "version": "3.11.5"
  },
  "orig_nbformat": 4
 },
 "nbformat": 4,
 "nbformat_minor": 2
}
