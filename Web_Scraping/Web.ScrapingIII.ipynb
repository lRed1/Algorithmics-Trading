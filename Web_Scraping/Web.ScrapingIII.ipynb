{
 "cells": [
  {
   "cell_type": "code",
   "execution_count": 2,
   "metadata": {},
   "outputs": [],
   "source": [
    "import requests\n",
    "from bs4 import BeautifulSoup\n",
    "import pandas as pd"
   ]
  },
  {
   "cell_type": "markdown",
   "metadata": {},
   "source": [
    "WEB SCRAPING TABLES FROM XE"
   ]
  },
  {
   "cell_type": "code",
   "execution_count": 3,
   "metadata": {},
   "outputs": [
    {
     "data": {
      "text/plain": [
       "[    Currency        Rate Change\n",
       " 0  EUR / USD    1.063650      ▼\n",
       " 1  GBP / EUR    1.158430      ▼\n",
       " 2  USD / JPY  148.292000      ▲\n",
       " 3  GBP / USD    1.232160      ▼\n",
       " 4  USD / CHF    0.899995      ▲\n",
       " 5  USD / CAD    1.348970      ▲\n",
       " 6  EUR / JPY  157.732000      ▼\n",
       " 7  AUD / USD    0.641199      ▼,\n",
       "   Currency Interest Rate\n",
       " 0      JPY        -0.10%\n",
       " 1      CHF        -0.25%\n",
       " 2      EUR         1.25%\n",
       " 3      USD         2.50%\n",
       " 4      CAD         3.25%\n",
       " 5      AUD         2.35%\n",
       " 6      NZD         3.00%\n",
       " 7      GBP         1.75%]"
      ]
     },
     "execution_count": 3,
     "metadata": {},
     "output_type": "execute_result"
    }
   ],
   "source": [
    "url = \"https://www.xe.com/currencycharts/\"\n",
    "pd.read_html(url)"
   ]
  },
  {
   "cell_type": "markdown",
   "metadata": {},
   "source": [
    "WEB SCRAPING TABLES FROM YAHOO FINANCE\n"
   ]
  },
  {
   "cell_type": "code",
   "execution_count": 13,
   "metadata": {},
   "outputs": [],
   "source": [
    "tickers  = [\"AAPL\", \"META\", \"CSCO\", \"3988.HK\"]\n",
    "key_statistics = {}"
   ]
  },
  {
   "cell_type": "code",
   "execution_count": 16,
   "metadata": {},
   "outputs": [],
   "source": [
    "for ticker in tickers:\n",
    "\n",
    "    url_yf = \"https://finance.yahoo.com/quote/{}/key-statistics?p={}\".format(ticker,ticker)\n",
    "    headers = {\"User-Agent\": \"Chrome/117.0.5938.88\"}\n",
    "    page = requests.get(url_yf, headers=headers)\n",
    "    page_content = page.content\n",
    "    soup = BeautifulSoup(page_content,\"html.parser\")\n",
    "    temp_stats = {}\n",
    "    tabl = soup.find_all(\"table\", {\"class\": \"W(100%) Bdcl(c)\"}) \n",
    "    for t in tabl:\n",
    "        rows = t.find_all(\"tr\")\n",
    "        for row in rows:\n",
    "            temp_stats[row.get_text(separator = \"|\").split(\"|\")[0]] = row.get_text(separator = \"|\").split(\"|\")[-1]\n",
    "            \n",
    "    key_statistics[ticker] = temp_stats"
   ]
  },
  {
   "cell_type": "code",
   "execution_count": null,
   "metadata": {},
   "outputs": [],
   "source": []
  }
 ],
 "metadata": {
  "kernelspec": {
   "display_name": "Python 3",
   "language": "python",
   "name": "python3"
  },
  "language_info": {
   "codemirror_mode": {
    "name": "ipython",
    "version": 3
   },
   "file_extension": ".py",
   "mimetype": "text/x-python",
   "name": "python",
   "nbconvert_exporter": "python",
   "pygments_lexer": "ipython3",
   "version": "3.11.5"
  },
  "orig_nbformat": 4
 },
 "nbformat": 4,
 "nbformat_minor": 2
}
